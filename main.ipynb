{
 "cells": [
  {
   "cell_type": "markdown",
   "metadata": {},
   "source": [
    "Import any module you want"
   ]
  },
  {
   "cell_type": "code",
   "execution_count": 10,
   "metadata": {},
   "outputs": [],
   "source": [
    "from itertools import product\n",
    "from random import sample, seed\n",
    "from os import getcwd\n",
    "from time import time"
   ]
  },
  {
   "cell_type": "markdown",
   "metadata": {},
   "source": [
    "# Data creation Yigal"
   ]
  },
  {
   "cell_type": "code",
   "execution_count": 11,
   "metadata": {},
   "outputs": [],
   "source": [
    "numbers = [1, 2, 3]\n",
    "shapes = ['round', 'wiggly', 'square']\n",
    "colors = ['red', 'green', 'purple']\n",
    "fills = ['solid', 'empty', 'stripes']"
   ]
  },
  {
   "cell_type": "markdown",
   "metadata": {},
   "source": [
    "We create the Deck using the [itertools.product()][prod] function.\n",
    "\n",
    "[prod]: https://docs.python.org/3/library/itertools.html#itertools.product \"itertools.product() docs\""
   ]
  },
  {
   "cell_type": "code",
   "execution_count": 12,
   "metadata": {},
   "outputs": [],
   "source": [
    "deck = [(n, s, c, f) for n, s, c, f in product(numbers, colors, shapes, fills)]"
   ]
  },
  {
   "cell_type": "markdown",
   "metadata": {},
   "source": [
    "We create a file of boards using the [random.sample()][sample] function.\n",
    "\n",
    "[sample]: https://docs.python.org/3/library/random.html#random.sample \"random.sample() docs\""
   ]
  },
  {
   "cell_type": "code",
   "execution_count": 13,
   "metadata": {},
   "outputs": [],
   "source": [
    "seed(0)  # <-- This is going to change in the competition\n",
    "with open(getcwd() + '\\\\boards.txt', 'w') as f:\n",
    "    for _ in range(1000):\n",
    "        board = sample(deck, 12)\n",
    "        f.write(str(board) + '\\n')"
   ]
  },
  {
   "cell_type": "markdown",
   "metadata": {},
   "source": [
    "# Your solution"
   ]
  },
  {
   "cell_type": "markdown",
   "metadata": {},
   "source": [
    "Here will be your implementation for *find_set()*"
   ]
  },
  {
   "cell_type": "code",
   "execution_count": 14,
   "metadata": {},
   "outputs": [],
   "source": [
    "def find_set(board):\n",
    "    pass"
   ]
  },
  {
   "cell_type": "markdown",
   "metadata": {},
   "source": [
    "# Evaluation"
   ]
  },
  {
   "cell_type": "code",
   "execution_count": 15,
   "metadata": {},
   "outputs": [],
   "source": [
    "def is_set(card1, card2, card3):\n",
    "    return all([len(set(crit_trio)) != 2 for crit_trio in zip(card1, card2, card3)])"
   ]
  },
  {
   "cell_type": "code",
   "execution_count": 16,
   "metadata": {},
   "outputs": [],
   "source": [
    "def validate(sol_set, board):\n",
    "    if sol_set is None:\n",
    "        return find_set(board) is None\n",
    "    elif any([card not in board for card in sol_set]):\n",
    "        return False\n",
    "    elif not(is_set(*sol_set)):\n",
    "        return False\n",
    "    return True"
   ]
  },
  {
   "cell_type": "code",
   "execution_count": 17,
   "metadata": {},
   "outputs": [],
   "source": [
    "total_time = 0\n",
    "n_iters = 10\n",
    "ts = []\n",
    "\n",
    "with open(getcwd() + '\\\\boards.txt') as f:\n",
    "    for line in f:\n",
    "        board = eval(line)\n",
    "        \n",
    "        t1 = time()\n",
    "        for _ in range(n_iters):\n",
    "            solution = find_set(board)\n",
    "        t2 = time()\n",
    "        dt = (t2-t1) / n_iters\n",
    "        \n",
    "        if validate(solution, board):\n",
    "            ts.append(dt)"
   ]
  },
  {
   "cell_type": "markdown",
   "metadata": {},
   "source": [
    "And your final score is..."
   ]
  },
  {
   "cell_type": "code",
   "execution_count": 18,
   "metadata": {},
   "outputs": [
    {
     "name": "stdout",
     "output_type": "stream",
     "text": [
      "Your score is: 0.5504469871520994\n"
     ]
    }
   ],
   "source": [
    "score = sum(ts) + (1000 - len(ts)) * max(ts)\n",
    "print(\"Your score is:\", score)"
   ]
  }
 ],
 "metadata": {
  "kernelspec": {
   "display_name": "Python 3",
   "language": "python",
   "name": "python3"
  },
  "language_info": {
   "codemirror_mode": {
    "name": "ipython",
    "version": 3
   },
   "file_extension": ".py",
   "mimetype": "text/x-python",
   "name": "python",
   "nbconvert_exporter": "python",
   "pygments_lexer": "ipython3",
   "version": "3.6.3"
  }
 },
 "nbformat": 4,
 "nbformat_minor": 2
}
