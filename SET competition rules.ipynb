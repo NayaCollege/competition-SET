{
 "cells": [
  {
   "cell_type": "code",
   "execution_count": 1,
   "metadata": {},
   "outputs": [],
   "source": [
    "from itertools import product, combinations\n",
    "from random import sample\n",
    "from os import getcwd\n",
    "from time import time"
   ]
  },
  {
   "cell_type": "markdown",
   "metadata": {},
   "source": [
    "# Definitions"
   ]
  },
  {
   "cell_type": "markdown",
   "metadata": {},
   "source": [
    "**Card** - a 4-tuple of the form (number, shape, color, fill)\n",
    "\n",
    "**Deck** - a full collection of the 81 possible Cards\n",
    "\n",
    "**Board** - a list of 12 distinct Cards, representing a round in the game\n",
    "\n",
    "**Set** - a tuple/list of 3 Cards that forms a legitimate set in the game"
   ]
  },
  {
   "cell_type": "markdown",
   "metadata": {},
   "source": [
    "# Challenge statment"
   ]
  },
  {
   "cell_type": "markdown",
   "metadata": {},
   "source": [
    "Write in the most efficient way a function called _find_\\__set(board)_ which accepts a Board _board_ and returns either a Set from the Cards in _board_, or _None_ if _board_ does not contain a Set."
   ]
  },
  {
   "cell_type": "markdown",
   "metadata": {},
   "source": [
    "# Sample data creation"
   ]
  },
  {
   "cell_type": "code",
   "execution_count": 76,
   "metadata": {},
   "outputs": [],
   "source": [
    "numbers = [1, 2, 3]\n",
    "shapes = ['round', 'wiggly', 'square']\n",
    "colors = ['red', 'green', 'purple']\n",
    "fills = ['solid', 'empty', 'stripes']"
   ]
  },
  {
   "cell_type": "markdown",
   "metadata": {},
   "source": [
    "We create the Deck using the [itertools.product()][prod] function.\n",
    "\n",
    "[prod]: https://docs.python.org/3/library/itertools.html#itertools.product \"itertools.product() docs\""
   ]
  },
  {
   "cell_type": "code",
   "execution_count": 3,
   "metadata": {},
   "outputs": [],
   "source": [
    "deck = [(n, s, c, f) for n, s, c, f in product(numbers, colors, shapes, fills)]"
   ]
  },
  {
   "cell_type": "markdown",
   "metadata": {},
   "source": [
    "We create a file of boards using the [random.sample()][sample] function.\n",
    "\n",
    "[sample]: https://docs.python.org/3/library/random.html#random.sample \"random.sample() docs\""
   ]
  },
  {
   "cell_type": "code",
   "execution_count": 10,
   "metadata": {},
   "outputs": [],
   "source": [
    "with open(getcwd() + '\\\\boards.txt', 'w') as f:\n",
    "    for _ in range(1000):\n",
    "        board = sample(deck, 12)\n",
    "        f.write(str(board) + '\\n')"
   ]
  },
  {
   "cell_type": "markdown",
   "metadata": {},
   "source": [
    "# Sample solution"
   ]
  },
  {
   "cell_type": "markdown",
   "metadata": {},
   "source": [
    "**WARNING:** This solution is far from optimal, and is purely for explanatory and assistance reasons."
   ]
  },
  {
   "cell_type": "markdown",
   "metadata": {},
   "source": [
    "The function _is_\\__set(card1, card2, card3)_ is an auxiliary Boolean function that receives 3 \"card\" tuples and returns whether they form a set or not."
   ]
  },
  {
   "cell_type": "code",
   "execution_count": 69,
   "metadata": {},
   "outputs": [],
   "source": [
    "def is_set(card1, card2, card3):\n",
    "    return all([len(set(crit_trio)) != 2 for crit_trio in zip(card1, card2, card3)])"
   ]
  },
  {
   "cell_type": "markdown",
   "metadata": {},
   "source": [
    "The function _find_\\__set()_ returns by default the first set it finds in _board_ (or _None_). \n",
    "\n",
    "This solution uses the [itertools.combinations()][comb] function.\n",
    "\n",
    "[comb]: https://docs.python.org/3/library/itertools.html#itertools.combinations \"itertools.combinations() docs\""
   ]
  },
  {
   "cell_type": "code",
   "execution_count": 70,
   "metadata": {},
   "outputs": [],
   "source": [
    "def sample_find_set(board):\n",
    "    for combo in combinations(board, 3):\n",
    "        if is_set(*combo):\n",
    "            return combo"
   ]
  },
  {
   "cell_type": "markdown",
   "metadata": {},
   "source": [
    "## Demonstration"
   ]
  },
  {
   "cell_type": "code",
   "execution_count": 71,
   "metadata": {},
   "outputs": [
    {
     "data": {
      "text/plain": [
       "[(2, 'purple', 'wiggly', 'stripes'),\n",
       " (3, 'purple', 'square', 'solid'),\n",
       " (2, 'red', 'square', 'stripes'),\n",
       " (1, 'green', 'round', 'solid'),\n",
       " (2, 'green', 'square', 'empty'),\n",
       " (3, 'red', 'square', 'stripes'),\n",
       " (1, 'red', 'wiggly', 'solid'),\n",
       " (3, 'red', 'wiggly', 'stripes'),\n",
       " (1, 'purple', 'round', 'stripes'),\n",
       " (2, 'red', 'square', 'empty'),\n",
       " (3, 'green', 'square', 'stripes'),\n",
       " (1, 'purple', 'square', 'solid')]"
      ]
     },
     "execution_count": 71,
     "metadata": {},
     "output_type": "execute_result"
    }
   ],
   "source": [
    "board = sample(deck, 12)\n",
    "board"
   ]
  },
  {
   "cell_type": "code",
   "execution_count": 73,
   "metadata": {},
   "outputs": [
    {
     "data": {
      "text/plain": [
       "((1, 'green', 'round', 'solid'),\n",
       " (1, 'red', 'wiggly', 'solid'),\n",
       " (1, 'purple', 'square', 'solid'))"
      ]
     },
     "execution_count": 73,
     "metadata": {},
     "output_type": "execute_result"
    }
   ],
   "source": [
    "solution = sample_find_set(board)\n",
    "solution"
   ]
  },
  {
   "cell_type": "code",
   "execution_count": 75,
   "metadata": {},
   "outputs": [
    {
     "data": {
      "text/plain": [
       "True"
      ]
     },
     "execution_count": 75,
     "metadata": {},
     "output_type": "execute_result"
    }
   ],
   "source": [
    "is_set(*solution)"
   ]
  },
  {
   "cell_type": "markdown",
   "metadata": {},
   "source": [
    "# Evaluation"
   ]
  },
  {
   "cell_type": "markdown",
   "metadata": {},
   "source": [
    "Your score is the total time it takes your function _find_\\__set()_ to find a solution for each board in the file. "
   ]
  },
  {
   "cell_type": "code",
   "execution_count": 41,
   "metadata": {},
   "outputs": [],
   "source": [
    "# Here will be your implementation for find_set()\n",
    "def find_set(board):\n",
    "    pass"
   ]
  },
  {
   "cell_type": "markdown",
   "metadata": {},
   "source": [
    "Each answer is validated, and an error will cost you like the worst of your successful rounds. "
   ]
  },
  {
   "cell_type": "code",
   "execution_count": 42,
   "metadata": {},
   "outputs": [],
   "source": [
    "def validate(sol_set, board):\n",
    "    if sol_set is None:\n",
    "        return find_set(board) is None\n",
    "    elif any([card not in board for card in sol_set]):\n",
    "        return False\n",
    "    elif not(is_set(*sol_set)):\n",
    "        return False\n",
    "    return True"
   ]
  },
  {
   "cell_type": "markdown",
   "metadata": {},
   "source": [
    "The following script will evaluate your code. It uses the built-in function [eval()][eval].\n",
    "\n",
    "[eval]: https://docs.python.org/3/library/functions.html#eval \"eval() docs\""
   ]
  },
  {
   "cell_type": "code",
   "execution_count": 63,
   "metadata": {},
   "outputs": [],
   "source": [
    "total_time = 0\n",
    "n_iters = 10\n",
    "ts = []\n",
    "\n",
    "with open(getcwd() + '\\\\boards.txt') as f:\n",
    "    for line in f:\n",
    "        board = eval(line)\n",
    "        \n",
    "        t1 = time()\n",
    "        for _ in range(n_iters):\n",
    "            solution = find_set(board)\n",
    "        t2 = time()\n",
    "        dt = (t2-t1) / n_iters\n",
    "        \n",
    "        if validate(solution, board):\n",
    "            ts.append(dt)"
   ]
  },
  {
   "cell_type": "markdown",
   "metadata": {},
   "source": [
    "And the final scoring is..."
   ]
  },
  {
   "cell_type": "code",
   "execution_count": 68,
   "metadata": {},
   "outputs": [
    {
     "name": "stdout",
     "output_type": "stream",
     "text": [
      "0.12491531372070312\n"
     ]
    }
   ],
   "source": [
    "score = sum(ts) + (1000 - len(ts)) * max(ts)\n",
    "print(score)"
   ]
  }
 ],
 "metadata": {
  "kernelspec": {
   "display_name": "Python 3",
   "language": "python",
   "name": "python3"
  },
  "language_info": {
   "codemirror_mode": {
    "name": "ipython",
    "version": 3
   },
   "file_extension": ".py",
   "mimetype": "text/x-python",
   "name": "python",
   "nbconvert_exporter": "python",
   "pygments_lexer": "ipython3",
   "version": "3.6.3"
  }
 },
 "nbformat": 4,
 "nbformat_minor": 2
}
